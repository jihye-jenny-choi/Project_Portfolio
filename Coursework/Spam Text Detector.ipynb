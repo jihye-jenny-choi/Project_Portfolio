{
 "cells": [
  {
   "cell_type": "markdown",
   "metadata": {},
   "source": [
    "# NLP Final Project - Spam Classification\n",
    "\n",
    "#### data source: https://www.kaggle.com/datasets/uciml/sms-spam-collection-dataset\n",
    "\n",
    "### Team 04\n",
    "\n",
    "#### Members: Charlotte Ku, Jenny Choi, Zeeshan Raza\n",
    "\n",
    "#### Intro: Here, we demonstrate a neural network that can identify whether a message is spam or not"
   ]
  },
  {
   "cell_type": "code",
   "execution_count": 1,
   "metadata": {
    "id": "GkKZ7vyUb7a0"
   },
   "outputs": [
    {
     "name": "stderr",
     "output_type": "stream",
     "text": [
      "/Users/rouhsin_charlotte/opt/anaconda3/lib/python3.8/site-packages/pandas/core/computation/expressions.py:20: UserWarning: Pandas requires version '2.7.3' or newer of 'numexpr' (version '2.7.1' currently installed).\n",
      "  from pandas.core.computation.check import NUMEXPR_INSTALLED\n"
     ]
    }
   ],
   "source": [
    "import pandas as pd\n",
    "import numpy as np\n",
    "import matplotlib.pyplot as plt\n",
    "\n",
    "import tensorflow_hub as hub\n",
    "import tensorflow_text as text\n",
    "\n",
    "import tensorflow as tf\n",
    "from tensorflow.keras.preprocessing.sequence import pad_sequences\n",
    "from tensorflow.keras.preprocessing.text import Tokenizer\n",
    "\n",
    "from sklearn.model_selection import train_test_split"
   ]
  },
  {
   "cell_type": "code",
   "execution_count": 3,
   "metadata": {
    "colab": {
     "base_uri": "https://localhost:8080/",
     "height": 73
    },
    "id": "czakPUiLdk4n",
    "outputId": "03e5c215-90b4-4246-d679-3c7a40e66c69"
   },
   "outputs": [
    {
     "data": {
      "text/html": [
       "\n",
       "     <input type=\"file\" id=\"files-c65f7d40-1916-4455-8f36-62be53ee4e6e\" name=\"files[]\" multiple disabled\n",
       "        style=\"border:none\" />\n",
       "     <output id=\"result-c65f7d40-1916-4455-8f36-62be53ee4e6e\">\n",
       "      Upload widget is only available when the cell has been executed in the\n",
       "      current browser session. Please rerun this cell to enable.\n",
       "      </output>\n",
       "      <script>// Copyright 2017 Google LLC\n",
       "//\n",
       "// Licensed under the Apache License, Version 2.0 (the \"License\");\n",
       "// you may not use this file except in compliance with the License.\n",
       "// You may obtain a copy of the License at\n",
       "//\n",
       "//      http://www.apache.org/licenses/LICENSE-2.0\n",
       "//\n",
       "// Unless required by applicable law or agreed to in writing, software\n",
       "// distributed under the License is distributed on an \"AS IS\" BASIS,\n",
       "// WITHOUT WARRANTIES OR CONDITIONS OF ANY KIND, either express or implied.\n",
       "// See the License for the specific language governing permissions and\n",
       "// limitations under the License.\n",
       "\n",
       "/**\n",
       " * @fileoverview Helpers for google.colab Python module.\n",
       " */\n",
       "(function(scope) {\n",
       "function span(text, styleAttributes = {}) {\n",
       "  const element = document.createElement('span');\n",
       "  element.textContent = text;\n",
       "  for (const key of Object.keys(styleAttributes)) {\n",
       "    element.style[key] = styleAttributes[key];\n",
       "  }\n",
       "  return element;\n",
       "}\n",
       "\n",
       "// Max number of bytes which will be uploaded at a time.\n",
       "const MAX_PAYLOAD_SIZE = 100 * 1024;\n",
       "\n",
       "function _uploadFiles(inputId, outputId) {\n",
       "  const steps = uploadFilesStep(inputId, outputId);\n",
       "  const outputElement = document.getElementById(outputId);\n",
       "  // Cache steps on the outputElement to make it available for the next call\n",
       "  // to uploadFilesContinue from Python.\n",
       "  outputElement.steps = steps;\n",
       "\n",
       "  return _uploadFilesContinue(outputId);\n",
       "}\n",
       "\n",
       "// This is roughly an async generator (not supported in the browser yet),\n",
       "// where there are multiple asynchronous steps and the Python side is going\n",
       "// to poll for completion of each step.\n",
       "// This uses a Promise to block the python side on completion of each step,\n",
       "// then passes the result of the previous step as the input to the next step.\n",
       "function _uploadFilesContinue(outputId) {\n",
       "  const outputElement = document.getElementById(outputId);\n",
       "  const steps = outputElement.steps;\n",
       "\n",
       "  const next = steps.next(outputElement.lastPromiseValue);\n",
       "  return Promise.resolve(next.value.promise).then((value) => {\n",
       "    // Cache the last promise value to make it available to the next\n",
       "    // step of the generator.\n",
       "    outputElement.lastPromiseValue = value;\n",
       "    return next.value.response;\n",
       "  });\n",
       "}\n",
       "\n",
       "/**\n",
       " * Generator function which is called between each async step of the upload\n",
       " * process.\n",
       " * @param {string} inputId Element ID of the input file picker element.\n",
       " * @param {string} outputId Element ID of the output display.\n",
       " * @return {!Iterable<!Object>} Iterable of next steps.\n",
       " */\n",
       "function* uploadFilesStep(inputId, outputId) {\n",
       "  const inputElement = document.getElementById(inputId);\n",
       "  inputElement.disabled = false;\n",
       "\n",
       "  const outputElement = document.getElementById(outputId);\n",
       "  outputElement.innerHTML = '';\n",
       "\n",
       "  const pickedPromise = new Promise((resolve) => {\n",
       "    inputElement.addEventListener('change', (e) => {\n",
       "      resolve(e.target.files);\n",
       "    });\n",
       "  });\n",
       "\n",
       "  const cancel = document.createElement('button');\n",
       "  inputElement.parentElement.appendChild(cancel);\n",
       "  cancel.textContent = 'Cancel upload';\n",
       "  const cancelPromise = new Promise((resolve) => {\n",
       "    cancel.onclick = () => {\n",
       "      resolve(null);\n",
       "    };\n",
       "  });\n",
       "\n",
       "  // Wait for the user to pick the files.\n",
       "  const files = yield {\n",
       "    promise: Promise.race([pickedPromise, cancelPromise]),\n",
       "    response: {\n",
       "      action: 'starting',\n",
       "    }\n",
       "  };\n",
       "\n",
       "  cancel.remove();\n",
       "\n",
       "  // Disable the input element since further picks are not allowed.\n",
       "  inputElement.disabled = true;\n",
       "\n",
       "  if (!files) {\n",
       "    return {\n",
       "      response: {\n",
       "        action: 'complete',\n",
       "      }\n",
       "    };\n",
       "  }\n",
       "\n",
       "  for (const file of files) {\n",
       "    const li = document.createElement('li');\n",
       "    li.append(span(file.name, {fontWeight: 'bold'}));\n",
       "    li.append(span(\n",
       "        `(${file.type || 'n/a'}) - ${file.size} bytes, ` +\n",
       "        `last modified: ${\n",
       "            file.lastModifiedDate ? file.lastModifiedDate.toLocaleDateString() :\n",
       "                                    'n/a'} - `));\n",
       "    const percent = span('0% done');\n",
       "    li.appendChild(percent);\n",
       "\n",
       "    outputElement.appendChild(li);\n",
       "\n",
       "    const fileDataPromise = new Promise((resolve) => {\n",
       "      const reader = new FileReader();\n",
       "      reader.onload = (e) => {\n",
       "        resolve(e.target.result);\n",
       "      };\n",
       "      reader.readAsArrayBuffer(file);\n",
       "    });\n",
       "    // Wait for the data to be ready.\n",
       "    let fileData = yield {\n",
       "      promise: fileDataPromise,\n",
       "      response: {\n",
       "        action: 'continue',\n",
       "      }\n",
       "    };\n",
       "\n",
       "    // Use a chunked sending to avoid message size limits. See b/62115660.\n",
       "    let position = 0;\n",
       "    do {\n",
       "      const length = Math.min(fileData.byteLength - position, MAX_PAYLOAD_SIZE);\n",
       "      const chunk = new Uint8Array(fileData, position, length);\n",
       "      position += length;\n",
       "\n",
       "      const base64 = btoa(String.fromCharCode.apply(null, chunk));\n",
       "      yield {\n",
       "        response: {\n",
       "          action: 'append',\n",
       "          file: file.name,\n",
       "          data: base64,\n",
       "        },\n",
       "      };\n",
       "\n",
       "      let percentDone = fileData.byteLength === 0 ?\n",
       "          100 :\n",
       "          Math.round((position / fileData.byteLength) * 100);\n",
       "      percent.textContent = `${percentDone}% done`;\n",
       "\n",
       "    } while (position < fileData.byteLength);\n",
       "  }\n",
       "\n",
       "  // All done.\n",
       "  yield {\n",
       "    response: {\n",
       "      action: 'complete',\n",
       "    }\n",
       "  };\n",
       "}\n",
       "\n",
       "scope.google = scope.google || {};\n",
       "scope.google.colab = scope.google.colab || {};\n",
       "scope.google.colab._files = {\n",
       "  _uploadFiles,\n",
       "  _uploadFilesContinue,\n",
       "};\n",
       "})(self);\n",
       "</script> "
      ],
      "text/plain": [
       "<IPython.core.display.HTML object>"
      ]
     },
     "metadata": {},
     "output_type": "display_data"
    },
    {
     "name": "stdout",
     "output_type": "stream",
     "text": [
      "Saving spam.xlsx to spam.xlsx\n"
     ]
    }
   ],
   "source": [
    "from google.colab import files\n",
    "uploaded = files.upload()"
   ]
  },
  {
   "cell_type": "markdown",
   "metadata": {},
   "source": [
    "## Loading Data"
   ]
  },
  {
   "cell_type": "code",
   "execution_count": 2,
   "metadata": {
    "id": "LOW_PvcIeHgs"
   },
   "outputs": [
    {
     "data": {
      "text/html": [
       "<div>\n",
       "<style scoped>\n",
       "    .dataframe tbody tr th:only-of-type {\n",
       "        vertical-align: middle;\n",
       "    }\n",
       "\n",
       "    .dataframe tbody tr th {\n",
       "        vertical-align: top;\n",
       "    }\n",
       "\n",
       "    .dataframe thead th {\n",
       "        text-align: right;\n",
       "    }\n",
       "</style>\n",
       "<table border=\"1\" class=\"dataframe\">\n",
       "  <thead>\n",
       "    <tr style=\"text-align: right;\">\n",
       "      <th></th>\n",
       "      <th>Category</th>\n",
       "      <th>Message</th>\n",
       "    </tr>\n",
       "  </thead>\n",
       "  <tbody>\n",
       "    <tr>\n",
       "      <th>0</th>\n",
       "      <td>ham</td>\n",
       "      <td>Go until jurong point, crazy.. Available only ...</td>\n",
       "    </tr>\n",
       "    <tr>\n",
       "      <th>1</th>\n",
       "      <td>ham</td>\n",
       "      <td>Ok lar... Joking wif u oni...</td>\n",
       "    </tr>\n",
       "    <tr>\n",
       "      <th>2</th>\n",
       "      <td>spam</td>\n",
       "      <td>Free entry in 2 a wkly comp to win FA Cup fina...</td>\n",
       "    </tr>\n",
       "    <tr>\n",
       "      <th>3</th>\n",
       "      <td>ham</td>\n",
       "      <td>U dun say so early hor... U c already then say...</td>\n",
       "    </tr>\n",
       "    <tr>\n",
       "      <th>4</th>\n",
       "      <td>ham</td>\n",
       "      <td>Nah I don't think he goes to usf, he lives aro...</td>\n",
       "    </tr>\n",
       "  </tbody>\n",
       "</table>\n",
       "</div>"
      ],
      "text/plain": [
       "  Category                                            Message\n",
       "0      ham  Go until jurong point, crazy.. Available only ...\n",
       "1      ham                      Ok lar... Joking wif u oni...\n",
       "2     spam  Free entry in 2 a wkly comp to win FA Cup fina...\n",
       "3      ham  U dun say so early hor... U c already then say...\n",
       "4      ham  Nah I don't think he goes to usf, he lives aro..."
      ]
     },
     "execution_count": 2,
     "metadata": {},
     "output_type": "execute_result"
    }
   ],
   "source": [
    "df = pd.read_excel('spam.xlsx', index_col = False)\n",
    "\n",
    "df.rename(columns={'v1': 'Category', 'v2': 'Message'}, inplace=True)\n",
    "df.drop('Unnamed: 2', inplace=True, axis=1)\n",
    "df.drop('Unnamed: 3', inplace=True, axis=1)\n",
    "df.drop('Unnamed: 4', inplace=True, axis=1)\n",
    "\n",
    "df.head()"
   ]
  },
  {
   "cell_type": "code",
   "execution_count": 3,
   "metadata": {
    "colab": {
     "base_uri": "https://localhost:8080/"
    },
    "id": "fyskliPkfpeb",
    "outputId": "248e8ced-ef32-4f3c-d94f-442c431bb117"
   },
   "outputs": [
    {
     "data": {
      "text/plain": [
       "ham     4825\n",
       "spam     747\n",
       "Name: Category, dtype: int64"
      ]
     },
     "execution_count": 3,
     "metadata": {},
     "output_type": "execute_result"
    }
   ],
   "source": [
    "df['Category'].value_counts()"
   ]
  },
  {
   "cell_type": "code",
   "execution_count": 4,
   "metadata": {
    "colab": {
     "base_uri": "https://localhost:8080/"
    },
    "id": "HcOzUpdfwC7a",
    "outputId": "cdfb4290-89dc-4a85-f2d8-dbe3ead8fc69"
   },
   "outputs": [
    {
     "name": "stdout",
     "output_type": "stream",
     "text": [
      "Ham Dataset Shape: (4825, 2)\n",
      "Spam Dataset Shape: (747, 2)\n"
     ]
    }
   ],
   "source": [
    "df_spam = df[df['Category']=='spam']\n",
    "df_ham = df[df['Category']=='ham']\n",
    "\n",
    "print(\"Ham Dataset Shape:\", df_ham.shape)\n",
    "print(\"Spam Dataset Shape:\", df_spam.shape)"
   ]
  },
  {
   "cell_type": "markdown",
   "metadata": {},
   "source": [
    "## Preprocessing Data\n",
    "### Balancing HAM and SPAM data"
   ]
  },
  {
   "cell_type": "code",
   "execution_count": 5,
   "metadata": {
    "colab": {
     "base_uri": "https://localhost:8080/"
    },
    "id": "bDhWMm2Nv6s_",
    "outputId": "0dfa7322-f263-485e-de9c-8c2ba5b127ba"
   },
   "outputs": [
    {
     "data": {
      "text/plain": [
       "(747, 2)"
      ]
     },
     "execution_count": 5,
     "metadata": {},
     "output_type": "execute_result"
    }
   ],
   "source": [
    "#will use df_spam.shape[0] - 747\n",
    "df_ham_downsampled = df_ham.sample(df_spam.shape[0])\n",
    "df_ham_downsampled.shape"
   ]
  },
  {
   "cell_type": "code",
   "execution_count": 42,
   "metadata": {
    "colab": {
     "base_uri": "https://localhost:8080/"
    },
    "id": "qIvqyDi4wO2c",
    "outputId": "d5d49cc8-865b-4163-da7f-b5e1b95f57fa"
   },
   "outputs": [
    {
     "data": {
      "text/plain": [
       "spam    747\n",
       "ham     747\n",
       "Name: Category, dtype: int64"
      ]
     },
     "execution_count": 42,
     "metadata": {},
     "output_type": "execute_result"
    }
   ],
   "source": [
    "df_balanced = pd.concat([df_spam , df_ham_downsampled])\n",
    "df_balanced['Category'].value_counts()"
   ]
  },
  {
   "cell_type": "markdown",
   "metadata": {},
   "source": [
    "### Labeling Data"
   ]
  },
  {
   "cell_type": "code",
   "execution_count": 43,
   "metadata": {
    "colab": {
     "base_uri": "https://localhost:8080/",
     "height": 424
    },
    "id": "3vphSCM8jgwB",
    "outputId": "0fc5b564-450f-4c1f-c9c2-1d57c0ae0221"
   },
   "outputs": [
    {
     "data": {
      "text/html": [
       "\n",
       "  <div id=\"df-9670f076-96f3-4bea-97db-e774a8ff288c\">\n",
       "    <div class=\"colab-df-container\">\n",
       "      <div>\n",
       "<style scoped>\n",
       "    .dataframe tbody tr th:only-of-type {\n",
       "        vertical-align: middle;\n",
       "    }\n",
       "\n",
       "    .dataframe tbody tr th {\n",
       "        vertical-align: top;\n",
       "    }\n",
       "\n",
       "    .dataframe thead th {\n",
       "        text-align: right;\n",
       "    }\n",
       "</style>\n",
       "<table border=\"1\" class=\"dataframe\">\n",
       "  <thead>\n",
       "    <tr style=\"text-align: right;\">\n",
       "      <th></th>\n",
       "      <th>Category</th>\n",
       "      <th>Message</th>\n",
       "      <th>spam</th>\n",
       "    </tr>\n",
       "  </thead>\n",
       "  <tbody>\n",
       "    <tr>\n",
       "      <th>2</th>\n",
       "      <td>spam</td>\n",
       "      <td>Free entry in 2 a wkly comp to win FA Cup fina...</td>\n",
       "      <td>1</td>\n",
       "    </tr>\n",
       "    <tr>\n",
       "      <th>5</th>\n",
       "      <td>spam</td>\n",
       "      <td>FreeMsg Hey there darling it's been 3 week's n...</td>\n",
       "      <td>1</td>\n",
       "    </tr>\n",
       "    <tr>\n",
       "      <th>8</th>\n",
       "      <td>spam</td>\n",
       "      <td>WINNER!! As a valued network customer you have...</td>\n",
       "      <td>1</td>\n",
       "    </tr>\n",
       "    <tr>\n",
       "      <th>9</th>\n",
       "      <td>spam</td>\n",
       "      <td>Had your mobile 11 months or more? U R entitle...</td>\n",
       "      <td>1</td>\n",
       "    </tr>\n",
       "    <tr>\n",
       "      <th>11</th>\n",
       "      <td>spam</td>\n",
       "      <td>SIX chances to win CASH! From 100 to 20,000 po...</td>\n",
       "      <td>1</td>\n",
       "    </tr>\n",
       "    <tr>\n",
       "      <th>...</th>\n",
       "      <td>...</td>\n",
       "      <td>...</td>\n",
       "      <td>...</td>\n",
       "    </tr>\n",
       "    <tr>\n",
       "      <th>1089</th>\n",
       "      <td>ham</td>\n",
       "      <td>Goodmorning today i am late for  &amp;lt;DECIMAL&amp;g...</td>\n",
       "      <td>0</td>\n",
       "    </tr>\n",
       "    <tr>\n",
       "      <th>245</th>\n",
       "      <td>ham</td>\n",
       "      <td>Too late. I said i have the website. I didn't ...</td>\n",
       "      <td>0</td>\n",
       "    </tr>\n",
       "    <tr>\n",
       "      <th>2452</th>\n",
       "      <td>ham</td>\n",
       "      <td>Okay. I've seen it. So i should pick it on fri...</td>\n",
       "      <td>0</td>\n",
       "    </tr>\n",
       "    <tr>\n",
       "      <th>5099</th>\n",
       "      <td>ham</td>\n",
       "      <td>Ah, well that confuses things, doesnt it? I th...</td>\n",
       "      <td>0</td>\n",
       "    </tr>\n",
       "    <tr>\n",
       "      <th>1031</th>\n",
       "      <td>ham</td>\n",
       "      <td>Yup bathe liao...</td>\n",
       "      <td>0</td>\n",
       "    </tr>\n",
       "  </tbody>\n",
       "</table>\n",
       "<p>1494 rows × 3 columns</p>\n",
       "</div>\n",
       "      <button class=\"colab-df-convert\" onclick=\"convertToInteractive('df-9670f076-96f3-4bea-97db-e774a8ff288c')\"\n",
       "              title=\"Convert this dataframe to an interactive table.\"\n",
       "              style=\"display:none;\">\n",
       "        \n",
       "  <svg xmlns=\"http://www.w3.org/2000/svg\" height=\"24px\"viewBox=\"0 0 24 24\"\n",
       "       width=\"24px\">\n",
       "    <path d=\"M0 0h24v24H0V0z\" fill=\"none\"/>\n",
       "    <path d=\"M18.56 5.44l.94 2.06.94-2.06 2.06-.94-2.06-.94-.94-2.06-.94 2.06-2.06.94zm-11 1L8.5 8.5l.94-2.06 2.06-.94-2.06-.94L8.5 2.5l-.94 2.06-2.06.94zm10 10l.94 2.06.94-2.06 2.06-.94-2.06-.94-.94-2.06-.94 2.06-2.06.94z\"/><path d=\"M17.41 7.96l-1.37-1.37c-.4-.4-.92-.59-1.43-.59-.52 0-1.04.2-1.43.59L10.3 9.45l-7.72 7.72c-.78.78-.78 2.05 0 2.83L4 21.41c.39.39.9.59 1.41.59.51 0 1.02-.2 1.41-.59l7.78-7.78 2.81-2.81c.8-.78.8-2.07 0-2.86zM5.41 20L4 18.59l7.72-7.72 1.47 1.35L5.41 20z\"/>\n",
       "  </svg>\n",
       "      </button>\n",
       "      \n",
       "  <style>\n",
       "    .colab-df-container {\n",
       "      display:flex;\n",
       "      flex-wrap:wrap;\n",
       "      gap: 12px;\n",
       "    }\n",
       "\n",
       "    .colab-df-convert {\n",
       "      background-color: #E8F0FE;\n",
       "      border: none;\n",
       "      border-radius: 50%;\n",
       "      cursor: pointer;\n",
       "      display: none;\n",
       "      fill: #1967D2;\n",
       "      height: 32px;\n",
       "      padding: 0 0 0 0;\n",
       "      width: 32px;\n",
       "    }\n",
       "\n",
       "    .colab-df-convert:hover {\n",
       "      background-color: #E2EBFA;\n",
       "      box-shadow: 0px 1px 2px rgba(60, 64, 67, 0.3), 0px 1px 3px 1px rgba(60, 64, 67, 0.15);\n",
       "      fill: #174EA6;\n",
       "    }\n",
       "\n",
       "    [theme=dark] .colab-df-convert {\n",
       "      background-color: #3B4455;\n",
       "      fill: #D2E3FC;\n",
       "    }\n",
       "\n",
       "    [theme=dark] .colab-df-convert:hover {\n",
       "      background-color: #434B5C;\n",
       "      box-shadow: 0px 1px 3px 1px rgba(0, 0, 0, 0.15);\n",
       "      filter: drop-shadow(0px 1px 2px rgba(0, 0, 0, 0.3));\n",
       "      fill: #FFFFFF;\n",
       "    }\n",
       "  </style>\n",
       "\n",
       "      <script>\n",
       "        const buttonEl =\n",
       "          document.querySelector('#df-9670f076-96f3-4bea-97db-e774a8ff288c button.colab-df-convert');\n",
       "        buttonEl.style.display =\n",
       "          google.colab.kernel.accessAllowed ? 'block' : 'none';\n",
       "\n",
       "        async function convertToInteractive(key) {\n",
       "          const element = document.querySelector('#df-9670f076-96f3-4bea-97db-e774a8ff288c');\n",
       "          const dataTable =\n",
       "            await google.colab.kernel.invokeFunction('convertToInteractive',\n",
       "                                                     [key], {});\n",
       "          if (!dataTable) return;\n",
       "\n",
       "          const docLinkHtml = 'Like what you see? Visit the ' +\n",
       "            '<a target=\"_blank\" href=https://colab.research.google.com/notebooks/data_table.ipynb>data table notebook</a>'\n",
       "            + ' to learn more about interactive tables.';\n",
       "          element.innerHTML = '';\n",
       "          dataTable['output_type'] = 'display_data';\n",
       "          await google.colab.output.renderOutput(dataTable, element);\n",
       "          const docLink = document.createElement('div');\n",
       "          docLink.innerHTML = docLinkHtml;\n",
       "          element.appendChild(docLink);\n",
       "        }\n",
       "      </script>\n",
       "    </div>\n",
       "  </div>\n",
       "  "
      ],
      "text/plain": [
       "     Category                                            Message  spam\n",
       "2        spam  Free entry in 2 a wkly comp to win FA Cup fina...     1\n",
       "5        spam  FreeMsg Hey there darling it's been 3 week's n...     1\n",
       "8        spam  WINNER!! As a valued network customer you have...     1\n",
       "9        spam  Had your mobile 11 months or more? U R entitle...     1\n",
       "11       spam  SIX chances to win CASH! From 100 to 20,000 po...     1\n",
       "...       ...                                                ...   ...\n",
       "1089      ham  Goodmorning today i am late for  &lt;DECIMAL&g...     0\n",
       "245       ham  Too late. I said i have the website. I didn't ...     0\n",
       "2452      ham  Okay. I've seen it. So i should pick it on fri...     0\n",
       "5099      ham  Ah, well that confuses things, doesnt it? I th...     0\n",
       "1031      ham                                  Yup bathe liao...     0\n",
       "\n",
       "[1494 rows x 3 columns]"
      ]
     },
     "execution_count": 43,
     "metadata": {},
     "output_type": "execute_result"
    }
   ],
   "source": [
    "# creating numerical repersentation of category - one hot encoding\n",
    "df_balanced['spam'] = df['Category'].apply(lambda x:1 if x=='spam' else 0)\n",
    "df_balanced"
   ]
  },
  {
   "cell_type": "markdown",
   "metadata": {},
   "source": [
    "## Method 1: Encoding Data with BERT Model\n",
    "### Test Train Split"
   ]
  },
  {
   "cell_type": "code",
   "execution_count": 44,
   "metadata": {
    "id": "REVyYXagqZbz"
   },
   "outputs": [],
   "source": [
    "from sklearn.model_selection import train_test_split\n",
    "X_train, X_test , y_train, y_test = train_test_split(df_balanced['Message'], df_balanced['spam'],\n",
    "                                                   stratify = df_balanced['spam'])"
   ]
  },
  {
   "cell_type": "markdown",
   "metadata": {},
   "source": [
    "### Encoding data with BERT model"
   ]
  },
  {
   "cell_type": "code",
   "execution_count": 45,
   "metadata": {
    "id": "xQIfzq28tkp_"
   },
   "outputs": [],
   "source": [
    "bert_preprocessor = hub.KerasLayer('https://tfhub.dev/tensorflow/bert_en_uncased_preprocess/3')\n",
    "bert_encoder = hub.KerasLayer('https://tfhub.dev/tensorflow/bert_en_uncased_L-12_H-768_A-12/4')"
   ]
  },
  {
   "cell_type": "code",
   "execution_count": 46,
   "metadata": {
    "id": "_vk58hdAsmEQ"
   },
   "outputs": [],
   "source": [
    "text_input = tf.keras.layers.Input(shape = (), dtype = tf.string, name = 'Inputs')\n",
    "preprocessed_text = bert_preprocessor(text_input)\n",
    "embeed = bert_encoder(preprocessed_text)\n",
    "dropout = tf.keras.layers.Dropout(0.1, name = 'Dropout')(embeed['pooled_output'])\n",
    "outputs = tf.keras.layers.Dense(1, activation = 'sigmoid', name = 'Dense')(dropout)"
   ]
  },
  {
   "cell_type": "markdown",
   "metadata": {},
   "source": [
    "### Training model"
   ]
  },
  {
   "cell_type": "code",
   "execution_count": 47,
   "metadata": {
    "id": "DzC-Mf2Htzno"
   },
   "outputs": [],
   "source": [
    "model = tf.keras.Model(inputs = [text_input], outputs = [outputs])"
   ]
  },
  {
   "cell_type": "code",
   "execution_count": 48,
   "metadata": {
    "colab": {
     "base_uri": "https://localhost:8080/"
    },
    "id": "dYifesH6rTeE",
    "outputId": "0ae018aa-c9a8-498c-a273-af4e43e8b2b1"
   },
   "outputs": [
    {
     "name": "stdout",
     "output_type": "stream",
     "text": [
      "Model: \"model_3\"\n",
      "__________________________________________________________________________________________________\n",
      " Layer (type)                   Output Shape         Param #     Connected to                     \n",
      "==================================================================================================\n",
      " Inputs (InputLayer)            [(None,)]            0           []                               \n",
      "                                                                                                  \n",
      " keras_layer_4 (KerasLayer)     {'input_word_ids':   0           ['Inputs[0][0]']                 \n",
      "                                (None, 128),                                                      \n",
      "                                 'input_mask': (Non                                               \n",
      "                                e, 128),                                                          \n",
      "                                 'input_type_ids':                                                \n",
      "                                (None, 128)}                                                      \n",
      "                                                                                                  \n",
      " keras_layer_5 (KerasLayer)     {'default': (None,   109482241   ['keras_layer_4[0][0]',          \n",
      "                                768),                             'keras_layer_4[0][1]',          \n",
      "                                 'pooled_output': (               'keras_layer_4[0][2]']          \n",
      "                                None, 768),                                                       \n",
      "                                 'encoder_outputs':                                               \n",
      "                                 [(None, 128, 768),                                               \n",
      "                                 (None, 128, 768),                                                \n",
      "                                 (None, 128, 768),                                                \n",
      "                                 (None, 128, 768),                                                \n",
      "                                 (None, 128, 768),                                                \n",
      "                                 (None, 128, 768),                                                \n",
      "                                 (None, 128, 768),                                                \n",
      "                                 (None, 128, 768),                                                \n",
      "                                 (None, 128, 768),                                                \n",
      "                                 (None, 128, 768),                                                \n",
      "                                 (None, 128, 768),                                                \n",
      "                                 (None, 128, 768)],                                               \n",
      "                                 'sequence_output':                                               \n",
      "                                 (None, 128, 768)}                                                \n",
      "                                                                                                  \n",
      " Dropout (Dropout)              (None, 768)          0           ['keras_layer_5[0][13]']         \n",
      "                                                                                                  \n",
      " Dense (Dense)                  (None, 1)            769         ['Dropout[0][0]']                \n",
      "                                                                                                  \n",
      "==================================================================================================\n",
      "Total params: 109,483,010\n",
      "Trainable params: 769\n",
      "Non-trainable params: 109,482,241\n",
      "__________________________________________________________________________________________________\n"
     ]
    }
   ],
   "source": [
    "model.summary()"
   ]
  },
  {
   "cell_type": "code",
   "execution_count": 49,
   "metadata": {
    "id": "5hwkzk_MujlR"
   },
   "outputs": [],
   "source": [
    "Metrics = [tf.keras.metrics.BinaryAccuracy(name = 'accuracy'),\n",
    "           tf.keras.metrics.Precision(name = 'precision'),\n",
    "           tf.keras.metrics.Recall(name = 'recall')\n",
    "           ]"
   ]
  },
  {
   "cell_type": "code",
   "execution_count": 50,
   "metadata": {
    "id": "pORvRo3Fuprd"
   },
   "outputs": [],
   "source": [
    "model.compile(optimizer ='adam',\n",
    "               loss = 'binary_crossentropy',\n",
    "               metrics = Metrics)"
   ]
  },
  {
   "cell_type": "code",
   "execution_count": 51,
   "metadata": {
    "colab": {
     "base_uri": "https://localhost:8080/"
    },
    "id": "fiJ5AKHzussk",
    "outputId": "cae6a830-b58c-4b36-af31-67df19148814"
   },
   "outputs": [
    {
     "name": "stdout",
     "output_type": "stream",
     "text": [
      "Epoch 1/10\n",
      "35/35 [==============================] - 514s 14s/step - loss: 0.6430 - accuracy: 0.6438 - precision: 0.6466 - recall: 0.6339\n",
      "Epoch 2/10\n",
      "35/35 [==============================] - 507s 14s/step - loss: 0.5213 - accuracy: 0.7911 - precision: 0.7985 - recall: 0.7786\n",
      "Epoch 3/10\n",
      "35/35 [==============================] - 503s 14s/step - loss: 0.4477 - accuracy: 0.8375 - precision: 0.8327 - recall: 0.8446\n",
      "Epoch 4/10\n",
      "35/35 [==============================] - 504s 14s/step - loss: 0.3958 - accuracy: 0.8679 - precision: 0.8552 - recall: 0.8857\n",
      "Epoch 5/10\n",
      "35/35 [==============================] - 502s 14s/step - loss: 0.3648 - accuracy: 0.8821 - precision: 0.8754 - recall: 0.8911\n",
      "Epoch 6/10\n",
      "35/35 [==============================] - 501s 14s/step - loss: 0.3391 - accuracy: 0.8777 - precision: 0.8678 - recall: 0.8911\n",
      "Epoch 7/10\n",
      "35/35 [==============================] - 501s 14s/step - loss: 0.3307 - accuracy: 0.8786 - precision: 0.8643 - recall: 0.8982\n",
      "Epoch 8/10\n",
      "35/35 [==============================] - 497s 14s/step - loss: 0.3087 - accuracy: 0.8866 - precision: 0.8714 - recall: 0.9071\n",
      "Epoch 9/10\n",
      "35/35 [==============================] - 495s 14s/step - loss: 0.2862 - accuracy: 0.9045 - precision: 0.8912 - recall: 0.9214\n",
      "Epoch 10/10\n",
      "35/35 [==============================] - 514s 15s/step - loss: 0.2801 - accuracy: 0.9027 - precision: 0.8922 - recall: 0.9161\n"
     ]
    }
   ],
   "source": [
    "history = model.fit(X_train, y_train, epochs = 10)"
   ]
  },
  {
   "cell_type": "markdown",
   "metadata": {},
   "source": [
    "### Evaluating model"
   ]
  },
  {
   "cell_type": "code",
   "execution_count": 53,
   "metadata": {
    "colab": {
     "base_uri": "https://localhost:8080/"
    },
    "id": "K3k9lfh11S-T",
    "outputId": "e369607e-4536-4339-e7f3-1bb3380df097"
   },
   "outputs": [
    {
     "name": "stdout",
     "output_type": "stream",
     "text": [
      "12/12 [==============================] - 171s 14s/step - loss: 0.2937 - accuracy: 0.9091 - precision: 0.9135 - recall: 0.9037\n"
     ]
    },
    {
     "data": {
      "text/plain": [
       "[0.2937468886375427, 0.9090909361839294, 0.9135135412216187, 0.903743326663971]"
      ]
     },
     "execution_count": 53,
     "metadata": {},
     "output_type": "execute_result"
    }
   ],
   "source": [
    "model.evaluate(X_test,y_test )"
   ]
  },
  {
   "cell_type": "code",
   "execution_count": 54,
   "metadata": {
    "colab": {
     "base_uri": "https://localhost:8080/"
    },
    "id": "ASUoaVq3198j",
    "outputId": "ee612311-1e68-4891-d98f-38ed43182593"
   },
   "outputs": [
    {
     "name": "stdout",
     "output_type": "stream",
     "text": [
      "12/12 [==============================] - 168s 14s/step\n"
     ]
    }
   ],
   "source": [
    "y_pred = model.predict(X_test)>0.5\n",
    "y_pred = y_pred.flatten() "
   ]
  },
  {
   "cell_type": "code",
   "execution_count": 55,
   "metadata": {
    "colab": {
     "base_uri": "https://localhost:8080/"
    },
    "id": "s0GJQ8MW8WYg",
    "outputId": "3e7d2b4e-709b-4897-ede1-3067c0a55f0e",
    "scrolled": true
   },
   "outputs": [
    {
     "data": {
      "text/plain": [
       "array([False, False, False, False,  True, False,  True,  True, False,\n",
       "        True, False, False, False,  True,  True,  True, False,  True,\n",
       "       False, False,  True,  True, False, False, False, False,  True,\n",
       "       False, False,  True, False,  True, False,  True,  True, False,\n",
       "        True, False, False, False, False,  True, False, False,  True,\n",
       "       False,  True,  True, False,  True, False, False,  True, False,\n",
       "       False,  True,  True, False,  True, False, False, False,  True,\n",
       "        True, False, False,  True,  True, False,  True,  True, False,\n",
       "        True, False,  True,  True, False,  True, False, False, False,\n",
       "       False, False, False, False,  True,  True, False,  True, False,\n",
       "        True,  True, False, False,  True, False, False,  True,  True,\n",
       "        True,  True,  True, False, False,  True, False,  True,  True,\n",
       "       False, False,  True,  True,  True,  True,  True, False,  True,\n",
       "        True, False,  True, False,  True,  True,  True, False,  True,\n",
       "        True, False,  True,  True,  True, False, False,  True, False,\n",
       "        True, False,  True,  True,  True,  True,  True, False, False,\n",
       "        True,  True,  True, False, False, False,  True,  True, False,\n",
       "       False, False, False,  True, False, False, False, False, False,\n",
       "       False,  True,  True,  True, False, False, False,  True, False,\n",
       "        True, False,  True,  True, False, False, False,  True,  True,\n",
       "        True,  True, False, False, False, False,  True,  True, False,\n",
       "       False, False,  True, False, False,  True,  True, False, False,\n",
       "        True, False,  True,  True,  True,  True, False, False,  True,\n",
       "        True,  True, False, False,  True,  True, False,  True,  True,\n",
       "        True, False, False,  True,  True,  True,  True,  True, False,\n",
       "       False, False, False,  True, False, False,  True,  True,  True,\n",
       "        True,  True, False, False,  True,  True, False, False, False,\n",
       "       False, False,  True,  True,  True,  True,  True, False,  True,\n",
       "        True,  True, False, False, False,  True,  True, False,  True,\n",
       "        True, False, False,  True,  True, False,  True,  True,  True,\n",
       "        True, False, False,  True,  True, False, False, False, False,\n",
       "       False, False,  True,  True, False,  True, False, False, False,\n",
       "       False, False,  True,  True,  True,  True,  True,  True,  True,\n",
       "        True, False,  True,  True, False, False,  True, False,  True,\n",
       "       False,  True,  True, False, False,  True, False, False,  True,\n",
       "        True, False,  True,  True, False, False,  True, False, False,\n",
       "       False, False, False,  True,  True,  True, False, False, False,\n",
       "        True, False, False,  True,  True,  True,  True, False, False,\n",
       "        True,  True, False, False, False,  True,  True,  True,  True,\n",
       "       False, False, False, False, False, False,  True, False,  True,\n",
       "        True, False, False, False, False, False, False, False, False,\n",
       "        True,  True,  True,  True,  True])"
      ]
     },
     "execution_count": 55,
     "metadata": {},
     "output_type": "execute_result"
    }
   ],
   "source": [
    "y_pred"
   ]
  },
  {
   "cell_type": "code",
   "execution_count": 56,
   "metadata": {
    "colab": {
     "base_uri": "https://localhost:8080/"
    },
    "id": "6RUqnsJC3IFH",
    "outputId": "11645b50-efed-43b5-f9e1-61d5f6343dc7"
   },
   "outputs": [
    {
     "data": {
      "text/plain": [
       "array([[171,  16],\n",
       "       [ 18, 169]])"
      ]
     },
     "execution_count": 56,
     "metadata": {},
     "output_type": "execute_result"
    }
   ],
   "source": [
    "from sklearn.metrics import confusion_matrix , classification_report\n",
    "\n",
    "# creating confusion matrix \n",
    "cm = confusion_matrix(y_test,y_pred)\n",
    "cm"
   ]
  },
  {
   "cell_type": "code",
   "execution_count": 57,
   "metadata": {
    "colab": {
     "base_uri": "https://localhost:8080/",
     "height": 296
    },
    "id": "P1cBf7EoJLe1",
    "outputId": "d4a72afa-8f55-42e1-962a-82870c158611"
   },
   "outputs": [
    {
     "data": {
      "text/plain": [
       "Text(33.0, 0.5, 'Actual')"
      ]
     },
     "execution_count": 57,
     "metadata": {},
     "output_type": "execute_result"
    },
    {
     "data": {
      "image/png": "[encoded data removed]",
      "text/plain": [
       "<Figure size 432x288 with 2 Axes>"
      ]
     },
     "metadata": {
      "needs_background": "light"
     },
     "output_type": "display_data"
    }
   ],
   "source": [
    "import seaborn as sns\n",
    "sns.heatmap(cm, annot = True, fmt = 'd')\n",
    "plt.xlabel('Predicted')\n",
    "plt.ylabel('Actual')"
   ]
  },
  {
   "cell_type": "code",
   "execution_count": 58,
   "metadata": {
    "colab": {
     "base_uri": "https://localhost:8080/"
    },
    "id": "yU64m7yC4IDC",
    "outputId": "bc9aff96-c042-4c0c-89c8-5f6ba4c07edc"
   },
   "outputs": [
    {
     "data": {
      "text/plain": [
       "0.90909"
      ]
     },
     "execution_count": 58,
     "metadata": {},
     "output_type": "execute_result"
    }
   ],
   "source": [
    "from sklearn.metrics import accuracy_score\n",
    "acc = np.round(accuracy_score(y_test, y_pred), 5)\n",
    "acc"
   ]
  },
  {
   "cell_type": "markdown",
   "metadata": {},
   "source": [
    "### Predicting texts"
   ]
  },
  {
   "cell_type": "code",
   "execution_count": 59,
   "metadata": {
    "id": "nFTOlpkPKWX3"
   },
   "outputs": [],
   "source": [
    "predict_text = [\n",
    "                # Spam\n",
    "                'We’d all like to get a $10,000 deposit on our bank accounts out of the blue, but winning a prize—especially if you’ve never entered a contest', \n",
    "                'Netflix is sending you a refund of $12.99. Please reply with your bank account and routing number to verify and get your refund', \n",
    "                'Your account is temporarily frozen. Please log in to to secure your account ', \n",
    "                '''We have a surprise for Kohl's users, start your day with our best rewards ''',\n",
    "                #ham\n",
    "                'The article was published on 18th August itself',\n",
    "                'Thank you very much for your interest in Baker Tilly. Your resume will be reviewed by our recruiting staff and should we feel that your background meets our current needs we will make sure to get in touch with you soon.',\n",
    "                'Thank you for reaching out. We are currently still interviewing other candidates at this time. Once a decision has been made, I’ll reach out to you with an update.'\n",
    "]"
   ]
  },
  {
   "cell_type": "code",
   "execution_count": 60,
   "metadata": {
    "colab": {
     "base_uri": "https://localhost:8080/"
    },
    "id": "EbnaBhUBKhF0",
    "outputId": "8bf135d8-8ea9-4804-838d-4f8fa296c91c"
   },
   "outputs": [
    {
     "name": "stdout",
     "output_type": "stream",
     "text": [
      "1/1 [==============================] - 4s 4s/step\n"
     ]
    },
    {
     "data": {
      "text/plain": [
       "array([[0.4891317 ],\n",
       "       [0.9183947 ],\n",
       "       [0.7930989 ],\n",
       "       [0.5071753 ],\n",
       "       [0.05922189],\n",
       "       [0.40249914],\n",
       "       [0.2719943 ]], dtype=float32)"
      ]
     },
     "execution_count": 60,
     "metadata": {},
     "output_type": "execute_result"
    }
   ],
   "source": [
    "test_results = model.predict(predict_text)\n",
    "test_results"
   ]
  },
  {
   "cell_type": "code",
   "execution_count": 61,
   "metadata": {
    "id": "GYKWAaHdK8qt"
   },
   "outputs": [],
   "source": [
    "output = np.where(test_results>0.5,'spam', 'ham')"
   ]
  },
  {
   "cell_type": "code",
   "execution_count": 62,
   "metadata": {
    "colab": {
     "base_uri": "https://localhost:8080/"
    },
    "id": "qsh_jlumLBGj",
    "outputId": "c1bd104e-3be1-45a8-cb9d-5621aa42a355"
   },
   "outputs": [
    {
     "data": {
      "text/plain": [
       "array([['ham'],\n",
       "       ['spam'],\n",
       "       ['spam'],\n",
       "       ['spam'],\n",
       "       ['ham'],\n",
       "       ['ham'],\n",
       "       ['ham']], dtype='<U4')"
      ]
     },
     "execution_count": 62,
     "metadata": {},
     "output_type": "execute_result"
    }
   ],
   "source": [
    "output"
   ]
  },
  {
   "cell_type": "markdown",
   "metadata": {
    "id": "LutDvqCck-d3"
   },
   "source": [
    "## Method 2: Tokenizer"
   ]
  },
  {
   "cell_type": "code",
   "execution_count": 63,
   "metadata": {
    "id": "HEwZqpB0lFyy"
   },
   "outputs": [],
   "source": [
    "# Define tokenizing and padding parameters using vocab_size, max_length, embedding_dim, trunc_type='post', padding_type='post'\n",
    "# oov_tok = \"<OOV>\", and training_size\n",
    "\n",
    "vocab_size = 10000\n",
    "embedding_dim = 8\n",
    "max_length = 171\n",
    "trunc_type = 'post'\n",
    "padding_type = 'post'\n",
    "oov_tok = \"<OOV>\"\n"
   ]
  },
  {
   "cell_type": "code",
   "execution_count": 65,
   "metadata": {
    "colab": {
     "base_uri": "https://localhost:8080/"
    },
    "id": "DjD3AYbympWo",
    "outputId": "387783c8-5daa-4c0b-9823-1b3e9362ec9e"
   },
   "outputs": [
    {
     "name": "stdout",
     "output_type": "stream",
     "text": [
      "1120 374\n"
     ]
    }
   ],
   "source": [
    "from sklearn.model_selection import train_test_split\n",
    "\n",
    "training_sentences, test_sentences, training_labels, test_labels  = train_test_split(df_balanced['Message'], df_balanced['spam'],\n",
    "                                                                                     stratify = df_balanced['spam'])\n",
    "\n",
    "print(len(training_sentences), len(test_sentences))"
   ]
  },
  {
   "cell_type": "code",
   "execution_count": 66,
   "metadata": {
    "colab": {
     "base_uri": "https://localhost:8080/"
    },
    "id": "dCh_B3EJqFtV",
    "outputId": "cae0be9f-c8e2-42d7-e2b6-d9c84638d8be"
   },
   "outputs": [
    {
     "data": {
      "text/plain": [
       "2784                               K, wat s tht incident?\n",
       "5004    Guess which pub im in? Im as happy as a pig in...\n",
       "4875    lyricalladie(21/F) is inviting you to be her f...\n",
       "3065    Get a brand new mobile phone by being an agent...\n",
       "2810    Thinkin about someone is all good. No drugs fo...\n",
       "                              ...                        \n",
       "1023                             May i call You later Pls\n",
       "1052    I got another job! The one at the hospital doi...\n",
       "170     Sir, I need AXIS BANK account no and bank addr...\n",
       "2806    December only! Had your mobile 11mths+? You ar...\n",
       "2952    URGENT! Your mobile was awarded a Â£1,500 Bonu...\n",
       "Name: Message, Length: 1120, dtype: object"
      ]
     },
     "execution_count": 66,
     "metadata": {},
     "output_type": "execute_result"
    }
   ],
   "source": [
    "training_sentences"
   ]
  },
  {
   "cell_type": "code",
   "execution_count": 67,
   "metadata": {
    "id": "bvhWrgJmohv8"
   },
   "outputs": [],
   "source": [
    "tokenizer = Tokenizer(num_words=vocab_size, oov_token=oov_tok)\n",
    "tokenizer.fit_on_texts(training_sentences)\n",
    "\n",
    "X_train = tokenizer.texts_to_sequences(training_sentences)\n",
    "X_train_padded = pad_sequences(X_train, maxlen=max_length, padding=padding_type, truncating=trunc_type)\n",
    "\n",
    "X_test = tokenizer.texts_to_sequences(test_sentences)\n",
    "X_test_padded = pad_sequences(X_test, maxlen=max_length, padding=padding_type, truncating=trunc_type)"
   ]
  },
  {
   "cell_type": "code",
   "execution_count": 68,
   "metadata": {
    "id": "ZRa4KQmysGHQ"
   },
   "outputs": [],
   "source": [
    "model = tf.keras.Sequential([\n",
    "    tf.keras.layers.Embedding(vocab_size, embedding_dim, input_length = max_length),\n",
    "    tf.keras.layers.GlobalAveragePooling1D(),\n",
    "    tf.keras.layers.Dense(24, activation = 'relu'),\n",
    "    tf.keras.layers.Dense(1, activation = 'sigmoid')])"
   ]
  },
  {
   "cell_type": "code",
   "execution_count": 69,
   "metadata": {
    "id": "mcnpA8nIsSv9"
   },
   "outputs": [],
   "source": [
    "model.compile(loss = 'binary_crossentropy', optimizer = 'adam', metrics = ['accuracy'])"
   ]
  },
  {
   "cell_type": "code",
   "execution_count": 70,
   "metadata": {
    "colab": {
     "base_uri": "https://localhost:8080/"
    },
    "id": "uei2sEZRsYUi",
    "outputId": "091ce221-c7c5-4c82-c740-2b2fb791920d"
   },
   "outputs": [
    {
     "name": "stdout",
     "output_type": "stream",
     "text": [
      "Model: \"sequential\"\n",
      "_________________________________________________________________\n",
      " Layer (type)                Output Shape              Param #   \n",
      "=================================================================\n",
      " embedding (Embedding)       (None, 171, 8)            80000     \n",
      "                                                                 \n",
      " global_average_pooling1d (G  (None, 8)                0         \n",
      " lobalAveragePooling1D)                                          \n",
      "                                                                 \n",
      " dense (Dense)               (None, 24)                216       \n",
      "                                                                 \n",
      " dense_1 (Dense)             (None, 1)                 25        \n",
      "                                                                 \n",
      "=================================================================\n",
      "Total params: 80,241\n",
      "Trainable params: 80,241\n",
      "Non-trainable params: 0\n",
      "_________________________________________________________________\n"
     ]
    }
   ],
   "source": [
    "model.summary()"
   ]
  },
  {
   "cell_type": "code",
   "execution_count": 71,
   "metadata": {
    "colab": {
     "base_uri": "https://localhost:8080/"
    },
    "id": "opjSo2_6scGz",
    "outputId": "afe061a2-217a-476a-b3cd-1d440c103f4c",
    "scrolled": true
   },
   "outputs": [
    {
     "name": "stdout",
     "output_type": "stream",
     "text": [
      "Epoch 1/30\n",
      "35/35 [==============================] - 1s 12ms/step - loss: 0.6926 - accuracy: 0.5000 - val_loss: 0.6920 - val_accuracy: 0.4973\n",
      "Epoch 2/30\n",
      "35/35 [==============================] - 0s 7ms/step - loss: 0.6913 - accuracy: 0.5000 - val_loss: 0.6905 - val_accuracy: 0.4973\n",
      "Epoch 3/30\n",
      "35/35 [==============================] - 0s 5ms/step - loss: 0.6886 - accuracy: 0.5000 - val_loss: 0.6864 - val_accuracy: 0.5000\n",
      "Epoch 4/30\n",
      "35/35 [==============================] - 0s 6ms/step - loss: 0.6822 - accuracy: 0.5152 - val_loss: 0.6787 - val_accuracy: 0.5882\n",
      "Epoch 5/30\n",
      "35/35 [==============================] - 0s 5ms/step - loss: 0.6708 - accuracy: 0.7696 - val_loss: 0.6646 - val_accuracy: 0.7914\n",
      "Epoch 6/30\n",
      "35/35 [==============================] - 0s 5ms/step - loss: 0.6493 - accuracy: 0.8679 - val_loss: 0.6407 - val_accuracy: 0.8797\n",
      "Epoch 7/30\n",
      "35/35 [==============================] - 0s 6ms/step - loss: 0.6171 - accuracy: 0.8813 - val_loss: 0.6062 - val_accuracy: 0.9225\n",
      "Epoch 8/30\n",
      "35/35 [==============================] - 0s 6ms/step - loss: 0.5712 - accuracy: 0.9438 - val_loss: 0.5583 - val_accuracy: 0.8904\n",
      "Epoch 9/30\n",
      "35/35 [==============================] - 0s 6ms/step - loss: 0.5127 - accuracy: 0.9339 - val_loss: 0.5024 - val_accuracy: 0.8984\n",
      "Epoch 10/30\n",
      "35/35 [==============================] - 0s 5ms/step - loss: 0.4465 - accuracy: 0.9429 - val_loss: 0.4427 - val_accuracy: 0.9225\n",
      "Epoch 11/30\n",
      "35/35 [==============================] - 0s 6ms/step - loss: 0.3814 - accuracy: 0.9482 - val_loss: 0.3901 - val_accuracy: 0.9492\n",
      "Epoch 12/30\n",
      "35/35 [==============================] - 0s 5ms/step - loss: 0.3231 - accuracy: 0.9554 - val_loss: 0.3369 - val_accuracy: 0.9465\n",
      "Epoch 13/30\n",
      "35/35 [==============================] - 0s 6ms/step - loss: 0.2708 - accuracy: 0.9625 - val_loss: 0.2954 - val_accuracy: 0.9305\n",
      "Epoch 14/30\n",
      "35/35 [==============================] - 0s 5ms/step - loss: 0.2300 - accuracy: 0.9625 - val_loss: 0.2618 - val_accuracy: 0.9332\n",
      "Epoch 15/30\n",
      "35/35 [==============================] - 0s 5ms/step - loss: 0.1967 - accuracy: 0.9670 - val_loss: 0.2375 - val_accuracy: 0.9332\n",
      "Epoch 16/30\n",
      "35/35 [==============================] - 0s 5ms/step - loss: 0.1737 - accuracy: 0.9670 - val_loss: 0.2157 - val_accuracy: 0.9412\n",
      "Epoch 17/30\n",
      "35/35 [==============================] - 0s 6ms/step - loss: 0.1510 - accuracy: 0.9714 - val_loss: 0.1990 - val_accuracy: 0.9465\n",
      "Epoch 18/30\n",
      "35/35 [==============================] - 0s 5ms/step - loss: 0.1355 - accuracy: 0.9705 - val_loss: 0.1863 - val_accuracy: 0.9465\n",
      "Epoch 19/30\n",
      "35/35 [==============================] - 0s 5ms/step - loss: 0.1214 - accuracy: 0.9723 - val_loss: 0.1756 - val_accuracy: 0.9519\n",
      "Epoch 20/30\n",
      "35/35 [==============================] - 0s 5ms/step - loss: 0.1109 - accuracy: 0.9741 - val_loss: 0.1668 - val_accuracy: 0.9519\n",
      "Epoch 21/30\n",
      "35/35 [==============================] - 0s 5ms/step - loss: 0.1022 - accuracy: 0.9759 - val_loss: 0.1594 - val_accuracy: 0.9545\n",
      "Epoch 22/30\n",
      "35/35 [==============================] - 0s 5ms/step - loss: 0.0931 - accuracy: 0.9777 - val_loss: 0.1535 - val_accuracy: 0.9545\n",
      "Epoch 23/30\n",
      "35/35 [==============================] - 0s 5ms/step - loss: 0.0869 - accuracy: 0.9786 - val_loss: 0.1509 - val_accuracy: 0.9599\n",
      "Epoch 24/30\n",
      "35/35 [==============================] - 0s 5ms/step - loss: 0.0801 - accuracy: 0.9795 - val_loss: 0.1435 - val_accuracy: 0.9626\n",
      "Epoch 25/30\n",
      "35/35 [==============================] - 0s 5ms/step - loss: 0.0750 - accuracy: 0.9830 - val_loss: 0.1388 - val_accuracy: 0.9626\n",
      "Epoch 26/30\n",
      "35/35 [==============================] - 0s 5ms/step - loss: 0.0697 - accuracy: 0.9821 - val_loss: 0.1353 - val_accuracy: 0.9679\n",
      "Epoch 27/30\n",
      "35/35 [==============================] - 0s 7ms/step - loss: 0.0660 - accuracy: 0.9821 - val_loss: 0.1332 - val_accuracy: 0.9652\n",
      "Epoch 28/30\n",
      "35/35 [==============================] - 0s 5ms/step - loss: 0.0615 - accuracy: 0.9839 - val_loss: 0.1312 - val_accuracy: 0.9652\n",
      "Epoch 29/30\n",
      "35/35 [==============================] - 0s 5ms/step - loss: 0.0576 - accuracy: 0.9848 - val_loss: 0.1284 - val_accuracy: 0.9652\n",
      "Epoch 30/30\n",
      "35/35 [==============================] - 0s 5ms/step - loss: 0.0544 - accuracy: 0.9893 - val_loss: 0.1246 - val_accuracy: 0.9679\n"
     ]
    }
   ],
   "source": [
    "history = model.fit(X_train_padded, training_labels,\\\n",
    "                    epochs = 30,\n",
    "                    validation_data = (X_test_padded, test_labels))"
   ]
  },
  {
   "cell_type": "code",
   "execution_count": 72,
   "metadata": {
    "colab": {
     "base_uri": "https://localhost:8080/",
     "height": 295
    },
    "id": "k4jFMnM1st73",
    "outputId": "08950879-b50c-4d4d-bad8-f25eeb2ed895"
   },
   "outputs": [
    {
     "data": {
      "image/png": "[encoded data removed]",
      "text/plain": [
       "<Figure size 864x288 with 2 Axes>"
      ]
     },
     "metadata": {
      "needs_background": "light"
     },
     "output_type": "display_data"
    }
   ],
   "source": [
    "fig = plt.figure(figsize = (12, 4))\n",
    "\n",
    "plt.subplot(1, 2, 1)\n",
    "plt.plot(history.history['loss'])\n",
    "plt.plot(history.history['val_loss'])\n",
    "plt.title('model loss', weight = 'bold')\n",
    "plt.ylabel('loss', weight = 'bold')\n",
    "plt.xlabel('epoch', weight = 'bold')\n",
    "plt.legend(['train', 'test'], loc = 1)\n",
    "\n",
    "plt.subplot(1, 2, 2)\n",
    "plt.plot(history.history['accuracy'])\n",
    "plt.plot(history.history['val_accuracy'])\n",
    "plt.title('model accuracy', weight = 'bold')\n",
    "plt.ylabel('accuracy', weight = 'bold')\n",
    "plt.xlabel('epoch', weight = 'bold')\n",
    "plt.legend(['train', 'test'], loc = 4)\n",
    "plt.show()"
   ]
  },
  {
   "cell_type": "code",
   "execution_count": 73,
   "metadata": {
    "colab": {
     "base_uri": "https://localhost:8080/"
    },
    "id": "f6yttuVCs08d",
    "outputId": "9a48e265-4a88-43aa-9deb-c08777911afb"
   },
   "outputs": [
    {
     "name": "stdout",
     "output_type": "stream",
     "text": [
      "12/12 [==============================] - 0s 2ms/step\n"
     ]
    },
    {
     "data": {
      "text/plain": [
       "array([[4.82793123e-01],\n",
       "       [1.66756455e-02],\n",
       "       [3.76065187e-02],\n",
       "       [2.15011016e-02],\n",
       "       [9.98148382e-01],\n",
       "       [9.98221874e-01],\n",
       "       [9.71082926e-01],\n",
       "       [1.21023871e-01],\n",
       "       [5.53553030e-02],\n",
       "       [9.95789707e-01],\n",
       "       [9.92006242e-01],\n",
       "       [9.96340394e-01],\n",
       "       [9.96850312e-01],\n",
       "       [9.96715486e-01],\n",
       "       [3.66687886e-02],\n",
       "       [9.76062238e-01],\n",
       "       [2.09887624e-02],\n",
       "       [5.63654780e-01],\n",
       "       [5.31588234e-02],\n",
       "       [3.44888531e-02],\n",
       "       [1.18040934e-01],\n",
       "       [8.14117789e-02],\n",
       "       [9.97214854e-01],\n",
       "       [6.12206519e-01],\n",
       "       [9.37264621e-01],\n",
       "       [3.46914381e-02],\n",
       "       [9.90766943e-01],\n",
       "       [9.93493378e-01],\n",
       "       [9.90693927e-01],\n",
       "       [2.55690329e-02],\n",
       "       [2.71428376e-01],\n",
       "       [9.59463835e-01],\n",
       "       [7.39506781e-02],\n",
       "       [7.36899376e-02],\n",
       "       [2.61883289e-01],\n",
       "       [8.94805193e-01],\n",
       "       [8.07312727e-02],\n",
       "       [9.91265535e-01],\n",
       "       [6.31393135e-01],\n",
       "       [9.95029688e-01],\n",
       "       [8.53516281e-01],\n",
       "       [1.06220553e-02],\n",
       "       [3.33922147e-03],\n",
       "       [1.34134710e-01],\n",
       "       [3.17019552e-01],\n",
       "       [2.05165166e-02],\n",
       "       [6.15771767e-03],\n",
       "       [4.85290326e-02],\n",
       "       [6.46389425e-02],\n",
       "       [9.91895616e-01],\n",
       "       [9.94076192e-01],\n",
       "       [2.20315531e-02],\n",
       "       [9.94963348e-01],\n",
       "       [8.92208636e-01],\n",
       "       [3.63917276e-02],\n",
       "       [1.46533307e-02],\n",
       "       [2.41501871e-02],\n",
       "       [9.93106782e-01],\n",
       "       [5.14760554e-01],\n",
       "       [4.18692678e-02],\n",
       "       [5.93840703e-02],\n",
       "       [9.65377152e-01],\n",
       "       [9.63974178e-01],\n",
       "       [9.73693073e-01],\n",
       "       [2.17481285e-01],\n",
       "       [8.98279250e-03],\n",
       "       [9.96248782e-01],\n",
       "       [3.17476131e-02],\n",
       "       [1.02294181e-02],\n",
       "       [1.72001738e-02],\n",
       "       [6.65019527e-02],\n",
       "       [4.61679330e-04],\n",
       "       [5.95282137e-01],\n",
       "       [9.88457620e-01],\n",
       "       [3.13305072e-02],\n",
       "       [1.69878900e-01],\n",
       "       [8.21693018e-02],\n",
       "       [9.97222602e-01],\n",
       "       [7.23214984e-01],\n",
       "       [9.37885821e-01],\n",
       "       [9.90035295e-01],\n",
       "       [6.33989275e-02],\n",
       "       [9.96850550e-01],\n",
       "       [2.11677670e-01],\n",
       "       [9.98278201e-01],\n",
       "       [7.79856086e-01],\n",
       "       [1.06692135e-01],\n",
       "       [4.92794290e-02],\n",
       "       [4.28396650e-02],\n",
       "       [9.90548730e-01],\n",
       "       [4.85874444e-01],\n",
       "       [9.47229326e-01],\n",
       "       [2.98515204e-02],\n",
       "       [6.10840954e-02],\n",
       "       [9.95047212e-01],\n",
       "       [9.95718062e-01],\n",
       "       [4.15808223e-02],\n",
       "       [1.04562521e-01],\n",
       "       [9.95567441e-01],\n",
       "       [9.94109213e-01],\n",
       "       [1.86727885e-02],\n",
       "       [9.01616752e-01],\n",
       "       [9.94813442e-01],\n",
       "       [2.26792227e-02],\n",
       "       [6.17641062e-02],\n",
       "       [9.98418212e-01],\n",
       "       [9.98670638e-01],\n",
       "       [9.98051345e-01],\n",
       "       [1.37581185e-01],\n",
       "       [9.87405181e-01],\n",
       "       [6.41028732e-02],\n",
       "       [9.74129140e-01],\n",
       "       [3.03429924e-02],\n",
       "       [6.18705787e-02],\n",
       "       [9.74252939e-01],\n",
       "       [1.67893648e-01],\n",
       "       [6.90616146e-02],\n",
       "       [4.63452041e-01],\n",
       "       [1.22075036e-01],\n",
       "       [1.10675856e-01],\n",
       "       [6.59367489e-03],\n",
       "       [3.67895178e-02],\n",
       "       [2.30835322e-02],\n",
       "       [1.22045599e-01],\n",
       "       [5.20664118e-02],\n",
       "       [6.55052885e-02],\n",
       "       [1.46367960e-02],\n",
       "       [8.13646540e-02],\n",
       "       [3.74061652e-02],\n",
       "       [4.02446017e-02],\n",
       "       [4.07898933e-01],\n",
       "       [9.94729161e-01],\n",
       "       [2.29672059e-01],\n",
       "       [2.12138388e-02],\n",
       "       [9.92749333e-01],\n",
       "       [5.03608212e-03],\n",
       "       [3.27101573e-02],\n",
       "       [2.16705985e-02],\n",
       "       [9.96819615e-01],\n",
       "       [4.86660190e-02],\n",
       "       [3.50732729e-02],\n",
       "       [9.97275651e-01],\n",
       "       [3.58935213e-03],\n",
       "       [2.15294100e-02],\n",
       "       [1.47187054e-01],\n",
       "       [9.92504954e-01],\n",
       "       [9.31199640e-02],\n",
       "       [9.97680485e-01],\n",
       "       [4.42000367e-02],\n",
       "       [9.17794466e-01],\n",
       "       [4.63440008e-02],\n",
       "       [9.95306849e-01],\n",
       "       [5.82306013e-02],\n",
       "       [9.86867666e-01],\n",
       "       [1.30506516e-01],\n",
       "       [9.93532777e-01],\n",
       "       [9.93993521e-01],\n",
       "       [5.37150428e-02],\n",
       "       [9.89384592e-01],\n",
       "       [3.47284451e-02],\n",
       "       [2.99020559e-01],\n",
       "       [9.91865695e-01],\n",
       "       [9.94905770e-01],\n",
       "       [9.97491837e-01],\n",
       "       [9.87196684e-01],\n",
       "       [8.97388518e-01],\n",
       "       [9.95581925e-01],\n",
       "       [9.96455193e-01],\n",
       "       [5.14760725e-02],\n",
       "       [5.19084036e-02],\n",
       "       [1.11052487e-02],\n",
       "       [9.96374726e-01],\n",
       "       [5.62244058e-02],\n",
       "       [2.25475058e-02],\n",
       "       [9.99423027e-01],\n",
       "       [9.98413920e-01],\n",
       "       [9.94947731e-01],\n",
       "       [8.39744389e-01],\n",
       "       [8.46998543e-02],\n",
       "       [4.34430748e-01],\n",
       "       [5.55591621e-02],\n",
       "       [4.98184189e-02],\n",
       "       [9.91528571e-01],\n",
       "       [3.27754438e-01],\n",
       "       [9.87954557e-01],\n",
       "       [9.95530486e-01],\n",
       "       [9.91267741e-01],\n",
       "       [2.97566682e-01],\n",
       "       [9.97369707e-01],\n",
       "       [3.27515639e-02],\n",
       "       [9.91535127e-01],\n",
       "       [1.77865457e-02],\n",
       "       [6.89595580e-01],\n",
       "       [3.83644067e-02],\n",
       "       [9.95857060e-01],\n",
       "       [2.66916621e-02],\n",
       "       [4.87273522e-02],\n",
       "       [2.63820499e-01],\n",
       "       [9.47229326e-01],\n",
       "       [1.49028143e-02],\n",
       "       [9.94708478e-01],\n",
       "       [9.94810402e-01],\n",
       "       [9.93234158e-01],\n",
       "       [9.96855181e-03],\n",
       "       [7.83484101e-01],\n",
       "       [2.30849418e-03],\n",
       "       [9.94478464e-01],\n",
       "       [9.07474279e-01],\n",
       "       [1.60728283e-02],\n",
       "       [3.86475801e-01],\n",
       "       [7.60769844e-02],\n",
       "       [9.96919513e-01],\n",
       "       [4.49731737e-01],\n",
       "       [9.95147049e-01],\n",
       "       [3.97679443e-03],\n",
       "       [1.07419463e-02],\n",
       "       [8.25293660e-01],\n",
       "       [9.96831357e-01],\n",
       "       [9.93494451e-01],\n",
       "       [9.91047561e-01],\n",
       "       [9.54885244e-01],\n",
       "       [7.57372426e-03],\n",
       "       [6.75426871e-02],\n",
       "       [9.96604919e-01],\n",
       "       [9.53494072e-01],\n",
       "       [4.96682385e-03],\n",
       "       [3.08600664e-01],\n",
       "       [9.46510375e-01],\n",
       "       [4.67493869e-02],\n",
       "       [5.41117154e-02],\n",
       "       [9.91265535e-01],\n",
       "       [5.78220002e-02],\n",
       "       [2.86211688e-02],\n",
       "       [4.02750932e-02],\n",
       "       [1.92743152e-01],\n",
       "       [9.92511868e-01],\n",
       "       [9.96513367e-01],\n",
       "       [9.22994986e-02],\n",
       "       [3.78514417e-02],\n",
       "       [9.95598197e-01],\n",
       "       [6.45924732e-02],\n",
       "       [4.07945253e-02],\n",
       "       [3.00014354e-02],\n",
       "       [4.52602834e-01],\n",
       "       [9.97461915e-01],\n",
       "       [3.09219658e-02],\n",
       "       [8.83857813e-03],\n",
       "       [9.93643820e-01],\n",
       "       [9.90503728e-01],\n",
       "       [1.88000370e-02],\n",
       "       [9.95338142e-01],\n",
       "       [2.85217106e-01],\n",
       "       [9.93825316e-01],\n",
       "       [4.68594223e-01],\n",
       "       [9.95581925e-01],\n",
       "       [9.90916133e-01],\n",
       "       [9.96456027e-01],\n",
       "       [8.56857076e-02],\n",
       "       [6.37607500e-02],\n",
       "       [8.40783194e-02],\n",
       "       [9.98778760e-01],\n",
       "       [1.26078529e-02],\n",
       "       [3.03371642e-02],\n",
       "       [2.12328555e-03],\n",
       "       [2.28985071e-01],\n",
       "       [7.07872391e-01],\n",
       "       [3.98705341e-02],\n",
       "       [9.98371065e-01],\n",
       "       [1.97471026e-02],\n",
       "       [2.01275572e-02],\n",
       "       [2.37230450e-01],\n",
       "       [9.93452549e-01],\n",
       "       [9.90716875e-01],\n",
       "       [1.43248037e-01],\n",
       "       [9.90049183e-01],\n",
       "       [2.49656633e-01],\n",
       "       [4.81365770e-02],\n",
       "       [9.96910751e-01],\n",
       "       [3.55317444e-03],\n",
       "       [9.96058345e-01],\n",
       "       [9.93653834e-01],\n",
       "       [9.89941895e-01],\n",
       "       [3.02756261e-02],\n",
       "       [8.77347812e-02],\n",
       "       [9.93877351e-01],\n",
       "       [9.92370784e-01],\n",
       "       [5.36819808e-02],\n",
       "       [7.37265825e-01],\n",
       "       [3.19093093e-02],\n",
       "       [9.38695908e-01],\n",
       "       [9.94182229e-01],\n",
       "       [1.25173539e-01],\n",
       "       [8.48455667e-01],\n",
       "       [8.37406218e-02],\n",
       "       [9.90431964e-01],\n",
       "       [9.94162321e-01],\n",
       "       [5.65723591e-02],\n",
       "       [9.90762889e-01],\n",
       "       [9.87162650e-01],\n",
       "       [1.44464239e-01],\n",
       "       [9.93216455e-01],\n",
       "       [9.90202546e-01],\n",
       "       [9.95861888e-01],\n",
       "       [9.93634164e-01],\n",
       "       [8.33627284e-01],\n",
       "       [9.92258668e-01],\n",
       "       [9.92679715e-01],\n",
       "       [9.64423537e-01],\n",
       "       [9.97509897e-01],\n",
       "       [6.18092827e-02],\n",
       "       [9.90356922e-01],\n",
       "       [8.33414197e-02],\n",
       "       [8.33627284e-01],\n",
       "       [1.18971104e-02],\n",
       "       [9.93494928e-01],\n",
       "       [9.96401668e-01],\n",
       "       [4.56741154e-02],\n",
       "       [3.45577449e-02],\n",
       "       [9.97432947e-01],\n",
       "       [8.31579626e-01],\n",
       "       [3.90444696e-03],\n",
       "       [9.91249084e-01],\n",
       "       [9.96392310e-01],\n",
       "       [9.96849418e-01],\n",
       "       [3.56199481e-02],\n",
       "       [4.49332111e-02],\n",
       "       [3.74784693e-02],\n",
       "       [3.13482666e-03],\n",
       "       [9.92302656e-01],\n",
       "       [3.23509462e-02],\n",
       "       [9.92598951e-01],\n",
       "       [9.42965984e-01],\n",
       "       [9.92786229e-01],\n",
       "       [1.05333105e-02],\n",
       "       [9.93337631e-01],\n",
       "       [9.97617662e-01],\n",
       "       [7.15736859e-03],\n",
       "       [3.78888160e-01],\n",
       "       [9.87447679e-01],\n",
       "       [9.93234158e-01],\n",
       "       [5.43955788e-02],\n",
       "       [7.83399940e-02],\n",
       "       [5.06085493e-02],\n",
       "       [1.38821140e-01],\n",
       "       [2.14935634e-02],\n",
       "       [3.00431880e-03],\n",
       "       [7.57145509e-02],\n",
       "       [5.42657673e-02],\n",
       "       [8.83018132e-03],\n",
       "       [6.19838178e-01],\n",
       "       [4.92639728e-02],\n",
       "       [1.80106953e-01],\n",
       "       [9.83301878e-01],\n",
       "       [1.02314837e-02],\n",
       "       [9.96392310e-01],\n",
       "       [9.94162321e-01],\n",
       "       [6.31393135e-01],\n",
       "       [1.49729522e-02],\n",
       "       [9.94729161e-01],\n",
       "       [9.96462643e-01],\n",
       "       [9.92072582e-01],\n",
       "       [1.17812186e-01],\n",
       "       [9.89941001e-01],\n",
       "       [6.70865119e-01],\n",
       "       [9.16832268e-01],\n",
       "       [9.93183017e-01],\n",
       "       [9.83013272e-01],\n",
       "       [9.90485907e-01],\n",
       "       [4.89766188e-02],\n",
       "       [1.03723533e-01],\n",
       "       [2.38041624e-01],\n",
       "       [8.75106871e-01],\n",
       "       [9.92939949e-01],\n",
       "       [9.99081194e-01]], dtype=float32)"
      ]
     },
     "execution_count": 73,
     "metadata": {},
     "output_type": "execute_result"
    }
   ],
   "source": [
    "result = model.predict(X_test_padded)\n",
    "result"
   ]
  },
  {
   "cell_type": "code",
   "execution_count": 74,
   "metadata": {
    "colab": {
     "base_uri": "https://localhost:8080/"
    },
    "id": "_YK_En1ss--O",
    "outputId": "c94f59aa-ac27-4aec-af49-b6d62d10833c",
    "scrolled": true
   },
   "outputs": [
    {
     "data": {
      "text/plain": [
       "array([False, False, False, False,  True,  True,  True, False, False,\n",
       "        True,  True,  True,  True,  True, False,  True, False,  True,\n",
       "       False, False, False, False,  True,  True,  True, False,  True,\n",
       "        True,  True, False, False,  True, False, False, False,  True,\n",
       "       False,  True,  True,  True,  True, False, False, False, False,\n",
       "       False, False, False, False,  True,  True, False,  True,  True,\n",
       "       False, False, False,  True,  True, False, False,  True,  True,\n",
       "        True, False, False,  True, False, False, False, False, False,\n",
       "        True,  True, False, False, False,  True,  True,  True,  True,\n",
       "       False,  True, False,  True,  True, False, False, False,  True,\n",
       "       False,  True, False, False,  True,  True, False, False,  True,\n",
       "        True, False,  True,  True, False, False,  True,  True,  True,\n",
       "       False,  True, False,  True, False, False,  True, False, False,\n",
       "       False, False, False, False, False, False, False, False, False,\n",
       "       False, False, False, False, False,  True, False, False,  True,\n",
       "       False, False, False,  True, False, False,  True, False, False,\n",
       "       False,  True, False,  True, False,  True, False,  True, False,\n",
       "        True, False,  True,  True, False,  True, False, False,  True,\n",
       "        True,  True,  True,  True,  True,  True, False, False, False,\n",
       "        True, False, False,  True,  True,  True,  True, False, False,\n",
       "       False, False,  True, False,  True,  True,  True, False,  True,\n",
       "       False,  True, False,  True, False,  True, False, False, False,\n",
       "        True, False,  True,  True,  True, False,  True, False,  True,\n",
       "        True, False, False, False,  True, False,  True, False, False,\n",
       "        True,  True,  True,  True,  True, False, False,  True,  True,\n",
       "       False, False,  True, False, False,  True, False, False, False,\n",
       "       False,  True,  True, False, False,  True, False, False, False,\n",
       "       False,  True, False, False,  True,  True, False,  True, False,\n",
       "        True, False,  True,  True,  True, False, False, False,  True,\n",
       "       False, False, False, False,  True, False,  True, False, False,\n",
       "       False,  True,  True, False,  True, False, False,  True, False,\n",
       "        True,  True,  True, False, False,  True,  True, False,  True,\n",
       "       False,  True,  True, False,  True, False,  True,  True, False,\n",
       "        True,  True, False,  True,  True,  True,  True,  True,  True,\n",
       "        True,  True,  True, False,  True, False,  True, False,  True,\n",
       "        True, False, False,  True,  True, False,  True,  True,  True,\n",
       "       False, False, False, False,  True, False,  True,  True,  True,\n",
       "       False,  True,  True, False, False,  True,  True, False, False,\n",
       "       False, False, False, False, False, False, False,  True, False,\n",
       "       False,  True, False,  True,  True,  True, False,  True,  True,\n",
       "        True, False,  True,  True,  True,  True,  True,  True, False,\n",
       "       False, False,  True,  True,  True])"
      ]
     },
     "execution_count": 74,
     "metadata": {},
     "output_type": "execute_result"
    }
   ],
   "source": [
    "result=result > 0.5\n",
    "result=result.flatten()\n",
    "result"
   ]
  },
  {
   "cell_type": "code",
   "execution_count": 75,
   "metadata": {
    "colab": {
     "base_uri": "https://localhost:8080/"
    },
    "id": "4oSGt2MsuJD_",
    "outputId": "262905d9-22ab-4b6b-8c74-62a255555114"
   },
   "outputs": [
    {
     "data": {
      "text/plain": [
       "1042    0\n",
       "567     0\n",
       "2777    0\n",
       "4625    0\n",
       "2219    1\n",
       "       ..\n",
       "1780    1\n",
       "3165    1\n",
       "1903    1\n",
       "877     1\n",
       "1136    1\n",
       "Name: spam, Length: 374, dtype: int64"
      ]
     },
     "execution_count": 75,
     "metadata": {},
     "output_type": "execute_result"
    }
   ],
   "source": [
    "y_test"
   ]
  },
  {
   "cell_type": "code",
   "execution_count": 76,
   "metadata": {
    "colab": {
     "base_uri": "https://localhost:8080/"
    },
    "id": "jXkh6rNRtFU8",
    "outputId": "34d196d4-e5f9-40d7-e19a-b8014782ecbc"
   },
   "outputs": [
    {
     "data": {
      "text/plain": [
       "array([[185,   2],\n",
       "       [ 10, 177]])"
      ]
     },
     "execution_count": 76,
     "metadata": {},
     "output_type": "execute_result"
    }
   ],
   "source": [
    "from sklearn.metrics import confusion_matrix , classification_report\n",
    "\n",
    "# creating confusion matrix \n",
    "cm = confusion_matrix(test_labels,result)\n",
    "cm"
   ]
  },
  {
   "cell_type": "code",
   "execution_count": 77,
   "metadata": {
    "colab": {
     "base_uri": "https://localhost:8080/",
     "height": 296
    },
    "id": "QGJ-dvIQvDEx",
    "outputId": "4ccd88ac-eaf0-44ab-f6b2-df5dd9f8d02b",
    "scrolled": true
   },
   "outputs": [
    {
     "data": {
      "text/plain": [
       "Text(33.0, 0.5, 'Actual')"
      ]
     },
     "execution_count": 77,
     "metadata": {},
     "output_type": "execute_result"
    },
    {
     "data": {
      "image/png": "[encoded data removed]",
      "text/plain": [
       "<Figure size 432x288 with 2 Axes>"
      ]
     },
     "metadata": {
      "needs_background": "light"
     },
     "output_type": "display_data"
    }
   ],
   "source": [
    "import seaborn as sns\n",
    "sns.heatmap(cm, annot = True, fmt = 'd')\n",
    "plt.xlabel('Predicted')\n",
    "plt.ylabel('Actual')"
   ]
  },
  {
   "cell_type": "code",
   "execution_count": 78,
   "metadata": {
    "colab": {
     "base_uri": "https://localhost:8080/"
    },
    "id": "Tz0to_bHvE5T",
    "outputId": "d305afd0-f9c3-4a81-a973-d9d3df46bb36"
   },
   "outputs": [
    {
     "data": {
      "text/plain": [
       "0.96791"
      ]
     },
     "execution_count": 78,
     "metadata": {},
     "output_type": "execute_result"
    }
   ],
   "source": [
    "from sklearn.metrics import accuracy_score\n",
    "acc = np.round(accuracy_score(test_labels,result), 5)\n",
    "acc"
   ]
  },
  {
   "cell_type": "code",
   "execution_count": 79,
   "metadata": {
    "id": "bW4rcrFOvawI"
   },
   "outputs": [],
   "source": [
    "tokenizer = Tokenizer(num_words=vocab_size, oov_token=oov_tok)\n",
    "tokenizer.fit_on_texts(predict_text)\n",
    "\n",
    "predict_text = tokenizer.texts_to_sequences(predict_text)\n",
    "predict_text = pad_sequences(predict_text, maxlen=max_length, padding=padding_type, truncating=trunc_type)"
   ]
  },
  {
   "cell_type": "code",
   "execution_count": 80,
   "metadata": {
    "colab": {
     "base_uri": "https://localhost:8080/"
    },
    "id": "nf5cg8Ozvm-B",
    "outputId": "73326fbd-6251-46fd-b2bd-556455110262"
   },
   "outputs": [
    {
     "name": "stdout",
     "output_type": "stream",
     "text": [
      "1/1 [==============================] - 0s 23ms/step\n"
     ]
    },
    {
     "data": {
      "text/plain": [
       "array([[ True],\n",
       "       [ True],\n",
       "       [ True],\n",
       "       [ True],\n",
       "       [ True],\n",
       "       [ True],\n",
       "       [ True]])"
      ]
     },
     "execution_count": 80,
     "metadata": {},
     "output_type": "execute_result"
    }
   ],
   "source": [
    "result = model.predict(predict_text)>0.5\n",
    "result"
   ]
  },
  {
   "cell_type": "markdown",
   "metadata": {
    "id": "1iGqvvDXWt21"
   },
   "source": [
    "# Supplemenary Models"
   ]
  },
  {
   "cell_type": "markdown",
   "metadata": {
    "id": "4CZz0LOQWt22"
   },
   "source": [
    "## Random Forest"
   ]
  },
  {
   "cell_type": "code",
   "execution_count": 81,
   "metadata": {
    "colab": {
     "base_uri": "https://localhost:8080/"
    },
    "id": "Jh1C2CxpWt22",
    "outputId": "bc07be8f-b02d-43ae-99a2-96ed0c2de7b4"
   },
   "outputs": [
    {
     "data": {
      "text/plain": [
       "RandomForestClassifier(max_depth=20, random_state=0)"
      ]
     },
     "execution_count": 81,
     "metadata": {},
     "output_type": "execute_result"
    }
   ],
   "source": [
    "from sklearn.ensemble import RandomForestClassifier\n",
    "\n",
    "model = RandomForestClassifier(max_depth = 20, random_state = 0)\n",
    "\n",
    "model.fit(X_train_padded, training_labels)"
   ]
  },
  {
   "cell_type": "code",
   "execution_count": 82,
   "metadata": {
    "colab": {
     "base_uri": "https://localhost:8080/"
    },
    "id": "mG1rEXKIWt23",
    "outputId": "d4f6325a-6d5b-489d-e3b6-ad012fced11d"
   },
   "outputs": [
    {
     "name": "stdout",
     "output_type": "stream",
     "text": [
      "Accuracy on test set: 0.86631\n"
     ]
    }
   ],
   "source": [
    "val = model.predict(X_test_padded)\n",
    "\n",
    "acc = np.round(accuracy_score(test_labels, val), 5)\n",
    "\n",
    "print(\"Accuracy on test set: \" + str(acc))"
   ]
  },
  {
   "cell_type": "code",
   "execution_count": 83,
   "metadata": {
    "colab": {
     "base_uri": "https://localhost:8080/"
    },
    "id": "6J43qkBuEPDX",
    "outputId": "127af2bd-ff76-4ea6-ed86-9faad1828148"
   },
   "outputs": [
    {
     "data": {
      "text/plain": [
       "array([ True,  True, False, False, False, False,  True])"
      ]
     },
     "execution_count": 83,
     "metadata": {},
     "output_type": "execute_result"
    }
   ],
   "source": [
    "test_results = model.predict(predict_text)\n",
    "test_results>0.5"
   ]
  },
  {
   "cell_type": "markdown",
   "metadata": {
    "id": "WXxAj7aQWt23"
   },
   "source": [
    "### SVM (Support Vector Machine)"
   ]
  },
  {
   "cell_type": "code",
   "execution_count": 84,
   "metadata": {
    "colab": {
     "base_uri": "https://localhost:8080/"
    },
    "id": "30o1A_xLWt24",
    "outputId": "2671844a-046e-49af-deae-98e190538820"
   },
   "outputs": [
    {
     "data": {
      "text/plain": [
       "SVC()"
      ]
     },
     "execution_count": 84,
     "metadata": {},
     "output_type": "execute_result"
    }
   ],
   "source": [
    "from sklearn.svm import SVC\n",
    "\n",
    "model = SVC()\n",
    "\n",
    "model.fit(X_train_padded, training_labels)"
   ]
  },
  {
   "cell_type": "code",
   "execution_count": 85,
   "metadata": {
    "colab": {
     "base_uri": "https://localhost:8080/"
    },
    "id": "P6evZgACWt24",
    "outputId": "577c3e5d-b31c-469b-c208-e8f324bce092"
   },
   "outputs": [
    {
     "name": "stdout",
     "output_type": "stream",
     "text": [
      "Accuracy on test set: 0.78075\n"
     ]
    }
   ],
   "source": [
    "val = model.predict(X_test_padded)\n",
    "\n",
    "acc = np.round(accuracy_score(test_labels, val), 5)\n",
    "\n",
    "print(\"Accuracy on test set: \" + str(acc))"
   ]
  },
  {
   "cell_type": "code",
   "execution_count": 86,
   "metadata": {
    "colab": {
     "base_uri": "https://localhost:8080/"
    },
    "id": "uKGUtI8TEadR",
    "outputId": "2429aaee-7fab-427e-8037-7a5988741f69"
   },
   "outputs": [
    {
     "data": {
      "text/plain": [
       "array([ True,  True, False, False, False, False,  True])"
      ]
     },
     "execution_count": 86,
     "metadata": {},
     "output_type": "execute_result"
    }
   ],
   "source": [
    "test_results>0.5"
   ]
  },
  {
   "cell_type": "markdown",
   "metadata": {
    "id": "OXtGj4J6Wt25"
   },
   "source": [
    "### Decision Tree"
   ]
  },
  {
   "cell_type": "code",
   "execution_count": 87,
   "metadata": {
    "colab": {
     "base_uri": "https://localhost:8080/"
    },
    "id": "QZaC2r86Wt25",
    "outputId": "60d91722-2c9e-4996-c646-a030aa8a897d"
   },
   "outputs": [
    {
     "data": {
      "text/plain": [
       "DecisionTreeClassifier()"
      ]
     },
     "execution_count": 87,
     "metadata": {},
     "output_type": "execute_result"
    }
   ],
   "source": [
    "from sklearn.tree import DecisionTreeClassifier\n",
    "\n",
    "model = DecisionTreeClassifier()\n",
    "\n",
    "model.fit(X_train_padded, training_labels)"
   ]
  },
  {
   "cell_type": "code",
   "execution_count": 88,
   "metadata": {
    "colab": {
     "base_uri": "https://localhost:8080/"
    },
    "id": "7kAFlYkgWt26",
    "outputId": "0d9cbe62-ca75-46a4-c799-3a89376541c1"
   },
   "outputs": [
    {
     "name": "stdout",
     "output_type": "stream",
     "text": [
      "Accuracy on test set: 0.75936\n"
     ]
    }
   ],
   "source": [
    "val = model.predict(X_test_padded)\n",
    "\n",
    "acc = np.round(accuracy_score(test_labels, val), 5)\n",
    "\n",
    "print(\"Accuracy on test set: \" + str(acc))"
   ]
  }
 ],
 "metadata": {
  "colab": {
   "provenance": []
  },
  "kernelspec": {
   "display_name": "Python 3",
   "language": "python",
   "name": "python3"
  },
  "language_info": {
   "codemirror_mode": {
    "name": "ipython",
    "version": 3
   },
   "file_extension": ".py",
   "mimetype": "text/x-python",
   "name": "python",
   "nbconvert_exporter": "python",
   "pygments_lexer": "ipython3",
   "version": "3.8.3"
  }
 },
 "nbformat": 4,
 "nbformat_minor": 1
}
